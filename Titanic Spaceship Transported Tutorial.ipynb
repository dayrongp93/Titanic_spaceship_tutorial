{
 "cells": [
  {
   "cell_type": "markdown",
   "id": "b60370f8",
   "metadata": {},
   "source": [
    "# Spaceship Titanic"
   ]
  },
  {
   "cell_type": "markdown",
   "id": "667ebd7f",
   "metadata": {},
   "source": [
    "### Predict which passengers are transported to an alternate dimension"
   ]
  },
  {
   "cell_type": "markdown",
   "id": "7fdbb9f8",
   "metadata": {},
   "source": [
    "In this competition your task is to predict whether a passenger was transported to an alternate dimension during the *Spaceship Titanic's* collision with the spacetime anomaly. To help you make these predictions, you're given a set of personal records recovered from the ship's damaged computer system."
   ]
  },
  {
   "cell_type": "code",
   "execution_count": 1,
   "id": "1498c3e0",
   "metadata": {},
   "outputs": [],
   "source": [
    "# Imports\n",
    "import pandas as pd\n",
    "import numpy as np\n",
    "import matplotlib.pyplot as plt\n",
    "%matplotlib inline"
   ]
  },
  {
   "cell_type": "code",
   "execution_count": 2,
   "id": "175b84e1",
   "metadata": {},
   "outputs": [],
   "source": [
    "# Load data\n",
    "train = pd.read_csv('train.csv')\n",
    "test = pd.read_csv('test.csv')"
   ]
  },
  {
   "cell_type": "code",
   "execution_count": 3,
   "id": "7c25d480",
   "metadata": {},
   "outputs": [],
   "source": [
    "# Info of dataset\n",
    "def dfInfo(frame):\n",
    "    print(\"Data description:\")\n",
    "    print(\"Total number of records: %d\" % frame.shape[0])\n",
    "    print(\"Total number of columns/features/variables: %d\" % frame.shape[1])\n",
    "    print(\"\\n\")\n",
    "    cols = frame.columns\n",
    "    data_type = []\n",
    "    for col in cols:\n",
    "        data_type.append(frame[col].dtype)\n",
    "    n_uni = frame.nunique()\n",
    "    n_miss = frame.isna().sum()\n",
    "    names = list(zip(cols, data_type, n_uni, n_miss))\n",
    "    variable_desc = pd.DataFrame(names, columns=[\"Name\", \"Type\", \"Unique levels\", \"Missing\"])\n",
    "    print(variable_desc)"
   ]
  },
  {
   "cell_type": "code",
   "execution_count": 4,
   "id": "9a4304a7",
   "metadata": {},
   "outputs": [
    {
     "name": "stdout",
     "output_type": "stream",
     "text": [
      "Data description:\n",
      "Total number of records: 8693\n",
      "Total number of columns/features/variables: 14\n",
      "\n",
      "\n",
      "            Name     Type  Unique levels  Missing\n",
      "0    PassengerId   object           8693        0\n",
      "1     HomePlanet   object              3      201\n",
      "2      CryoSleep   object              2      217\n",
      "3          Cabin   object           6560      199\n",
      "4    Destination   object              3      182\n",
      "5            Age  float64             80      179\n",
      "6            VIP   object              2      203\n",
      "7    RoomService  float64           1273      181\n",
      "8      FoodCourt  float64           1507      183\n",
      "9   ShoppingMall  float64           1115      208\n",
      "10           Spa  float64           1327      183\n",
      "11        VRDeck  float64           1306      188\n",
      "12          Name   object           8473      200\n",
      "13   Transported     bool              2        0\n"
     ]
    }
   ],
   "source": [
    "dfInfo(train)"
   ]
  },
  {
   "cell_type": "code",
   "execution_count": 5,
   "id": "3fa67586",
   "metadata": {},
   "outputs": [
    {
     "data": {
      "text/html": [
       "<div>\n",
       "<style scoped>\n",
       "    .dataframe tbody tr th:only-of-type {\n",
       "        vertical-align: middle;\n",
       "    }\n",
       "\n",
       "    .dataframe tbody tr th {\n",
       "        vertical-align: top;\n",
       "    }\n",
       "\n",
       "    .dataframe thead th {\n",
       "        text-align: right;\n",
       "    }\n",
       "</style>\n",
       "<table border=\"1\" class=\"dataframe\">\n",
       "  <thead>\n",
       "    <tr style=\"text-align: right;\">\n",
       "      <th></th>\n",
       "      <th>PassengerId</th>\n",
       "      <th>HomePlanet</th>\n",
       "      <th>CryoSleep</th>\n",
       "      <th>Cabin</th>\n",
       "      <th>Destination</th>\n",
       "      <th>Age</th>\n",
       "      <th>VIP</th>\n",
       "      <th>RoomService</th>\n",
       "      <th>FoodCourt</th>\n",
       "      <th>ShoppingMall</th>\n",
       "      <th>Spa</th>\n",
       "      <th>VRDeck</th>\n",
       "      <th>Name</th>\n",
       "      <th>Transported</th>\n",
       "    </tr>\n",
       "  </thead>\n",
       "  <tbody>\n",
       "    <tr>\n",
       "      <th>0</th>\n",
       "      <td>0001_01</td>\n",
       "      <td>Europa</td>\n",
       "      <td>False</td>\n",
       "      <td>B/0/P</td>\n",
       "      <td>TRAPPIST-1e</td>\n",
       "      <td>39.0</td>\n",
       "      <td>False</td>\n",
       "      <td>0.0</td>\n",
       "      <td>0.0</td>\n",
       "      <td>0.0</td>\n",
       "      <td>0.0</td>\n",
       "      <td>0.0</td>\n",
       "      <td>Maham Ofracculy</td>\n",
       "      <td>False</td>\n",
       "    </tr>\n",
       "    <tr>\n",
       "      <th>1</th>\n",
       "      <td>0002_01</td>\n",
       "      <td>Earth</td>\n",
       "      <td>False</td>\n",
       "      <td>F/0/S</td>\n",
       "      <td>TRAPPIST-1e</td>\n",
       "      <td>24.0</td>\n",
       "      <td>False</td>\n",
       "      <td>109.0</td>\n",
       "      <td>9.0</td>\n",
       "      <td>25.0</td>\n",
       "      <td>549.0</td>\n",
       "      <td>44.0</td>\n",
       "      <td>Juanna Vines</td>\n",
       "      <td>True</td>\n",
       "    </tr>\n",
       "    <tr>\n",
       "      <th>2</th>\n",
       "      <td>0003_01</td>\n",
       "      <td>Europa</td>\n",
       "      <td>False</td>\n",
       "      <td>A/0/S</td>\n",
       "      <td>TRAPPIST-1e</td>\n",
       "      <td>58.0</td>\n",
       "      <td>True</td>\n",
       "      <td>43.0</td>\n",
       "      <td>3576.0</td>\n",
       "      <td>0.0</td>\n",
       "      <td>6715.0</td>\n",
       "      <td>49.0</td>\n",
       "      <td>Altark Susent</td>\n",
       "      <td>False</td>\n",
       "    </tr>\n",
       "    <tr>\n",
       "      <th>3</th>\n",
       "      <td>0003_02</td>\n",
       "      <td>Europa</td>\n",
       "      <td>False</td>\n",
       "      <td>A/0/S</td>\n",
       "      <td>TRAPPIST-1e</td>\n",
       "      <td>33.0</td>\n",
       "      <td>False</td>\n",
       "      <td>0.0</td>\n",
       "      <td>1283.0</td>\n",
       "      <td>371.0</td>\n",
       "      <td>3329.0</td>\n",
       "      <td>193.0</td>\n",
       "      <td>Solam Susent</td>\n",
       "      <td>False</td>\n",
       "    </tr>\n",
       "    <tr>\n",
       "      <th>4</th>\n",
       "      <td>0004_01</td>\n",
       "      <td>Earth</td>\n",
       "      <td>False</td>\n",
       "      <td>F/1/S</td>\n",
       "      <td>TRAPPIST-1e</td>\n",
       "      <td>16.0</td>\n",
       "      <td>False</td>\n",
       "      <td>303.0</td>\n",
       "      <td>70.0</td>\n",
       "      <td>151.0</td>\n",
       "      <td>565.0</td>\n",
       "      <td>2.0</td>\n",
       "      <td>Willy Santantines</td>\n",
       "      <td>True</td>\n",
       "    </tr>\n",
       "    <tr>\n",
       "      <th>5</th>\n",
       "      <td>0005_01</td>\n",
       "      <td>Earth</td>\n",
       "      <td>False</td>\n",
       "      <td>F/0/P</td>\n",
       "      <td>PSO J318.5-22</td>\n",
       "      <td>44.0</td>\n",
       "      <td>False</td>\n",
       "      <td>0.0</td>\n",
       "      <td>483.0</td>\n",
       "      <td>0.0</td>\n",
       "      <td>291.0</td>\n",
       "      <td>0.0</td>\n",
       "      <td>Sandie Hinetthews</td>\n",
       "      <td>True</td>\n",
       "    </tr>\n",
       "    <tr>\n",
       "      <th>6</th>\n",
       "      <td>0006_01</td>\n",
       "      <td>Earth</td>\n",
       "      <td>False</td>\n",
       "      <td>F/2/S</td>\n",
       "      <td>TRAPPIST-1e</td>\n",
       "      <td>26.0</td>\n",
       "      <td>False</td>\n",
       "      <td>42.0</td>\n",
       "      <td>1539.0</td>\n",
       "      <td>3.0</td>\n",
       "      <td>0.0</td>\n",
       "      <td>0.0</td>\n",
       "      <td>Billex Jacostaffey</td>\n",
       "      <td>True</td>\n",
       "    </tr>\n",
       "    <tr>\n",
       "      <th>7</th>\n",
       "      <td>0006_02</td>\n",
       "      <td>Earth</td>\n",
       "      <td>True</td>\n",
       "      <td>G/0/S</td>\n",
       "      <td>TRAPPIST-1e</td>\n",
       "      <td>28.0</td>\n",
       "      <td>False</td>\n",
       "      <td>0.0</td>\n",
       "      <td>0.0</td>\n",
       "      <td>0.0</td>\n",
       "      <td>0.0</td>\n",
       "      <td>NaN</td>\n",
       "      <td>Candra Jacostaffey</td>\n",
       "      <td>True</td>\n",
       "    </tr>\n",
       "    <tr>\n",
       "      <th>8</th>\n",
       "      <td>0007_01</td>\n",
       "      <td>Earth</td>\n",
       "      <td>False</td>\n",
       "      <td>F/3/S</td>\n",
       "      <td>TRAPPIST-1e</td>\n",
       "      <td>35.0</td>\n",
       "      <td>False</td>\n",
       "      <td>0.0</td>\n",
       "      <td>785.0</td>\n",
       "      <td>17.0</td>\n",
       "      <td>216.0</td>\n",
       "      <td>0.0</td>\n",
       "      <td>Andona Beston</td>\n",
       "      <td>True</td>\n",
       "    </tr>\n",
       "    <tr>\n",
       "      <th>9</th>\n",
       "      <td>0008_01</td>\n",
       "      <td>Europa</td>\n",
       "      <td>True</td>\n",
       "      <td>B/1/P</td>\n",
       "      <td>55 Cancri e</td>\n",
       "      <td>14.0</td>\n",
       "      <td>False</td>\n",
       "      <td>0.0</td>\n",
       "      <td>0.0</td>\n",
       "      <td>0.0</td>\n",
       "      <td>0.0</td>\n",
       "      <td>0.0</td>\n",
       "      <td>Erraiam Flatic</td>\n",
       "      <td>True</td>\n",
       "    </tr>\n",
       "  </tbody>\n",
       "</table>\n",
       "</div>"
      ],
      "text/plain": [
       "  PassengerId HomePlanet CryoSleep  Cabin    Destination   Age    VIP  \\\n",
       "0     0001_01     Europa     False  B/0/P    TRAPPIST-1e  39.0  False   \n",
       "1     0002_01      Earth     False  F/0/S    TRAPPIST-1e  24.0  False   \n",
       "2     0003_01     Europa     False  A/0/S    TRAPPIST-1e  58.0   True   \n",
       "3     0003_02     Europa     False  A/0/S    TRAPPIST-1e  33.0  False   \n",
       "4     0004_01      Earth     False  F/1/S    TRAPPIST-1e  16.0  False   \n",
       "5     0005_01      Earth     False  F/0/P  PSO J318.5-22  44.0  False   \n",
       "6     0006_01      Earth     False  F/2/S    TRAPPIST-1e  26.0  False   \n",
       "7     0006_02      Earth      True  G/0/S    TRAPPIST-1e  28.0  False   \n",
       "8     0007_01      Earth     False  F/3/S    TRAPPIST-1e  35.0  False   \n",
       "9     0008_01     Europa      True  B/1/P    55 Cancri e  14.0  False   \n",
       "\n",
       "   RoomService  FoodCourt  ShoppingMall     Spa  VRDeck                Name  \\\n",
       "0          0.0        0.0           0.0     0.0     0.0     Maham Ofracculy   \n",
       "1        109.0        9.0          25.0   549.0    44.0        Juanna Vines   \n",
       "2         43.0     3576.0           0.0  6715.0    49.0       Altark Susent   \n",
       "3          0.0     1283.0         371.0  3329.0   193.0        Solam Susent   \n",
       "4        303.0       70.0         151.0   565.0     2.0   Willy Santantines   \n",
       "5          0.0      483.0           0.0   291.0     0.0   Sandie Hinetthews   \n",
       "6         42.0     1539.0           3.0     0.0     0.0  Billex Jacostaffey   \n",
       "7          0.0        0.0           0.0     0.0     NaN  Candra Jacostaffey   \n",
       "8          0.0      785.0          17.0   216.0     0.0       Andona Beston   \n",
       "9          0.0        0.0           0.0     0.0     0.0      Erraiam Flatic   \n",
       "\n",
       "   Transported  \n",
       "0        False  \n",
       "1         True  \n",
       "2        False  \n",
       "3        False  \n",
       "4         True  \n",
       "5         True  \n",
       "6         True  \n",
       "7         True  \n",
       "8         True  \n",
       "9         True  "
      ]
     },
     "execution_count": 5,
     "metadata": {},
     "output_type": "execute_result"
    }
   ],
   "source": [
    "train.head(10)"
   ]
  },
  {
   "cell_type": "markdown",
   "id": "cb556368",
   "metadata": {},
   "source": [
    "Lest's create a copy of the orignal dataset and let's work with this new dataset"
   ]
  },
  {
   "cell_type": "code",
   "execution_count": 6,
   "id": "979d8143",
   "metadata": {},
   "outputs": [],
   "source": [
    "ctrain = train.copy()"
   ]
  },
  {
   "cell_type": "markdown",
   "id": "41274281",
   "metadata": {},
   "source": [
    "Let's make some data transformation in the **CryoSleep**, **VIP** and **Transported** columns"
   ]
  },
  {
   "cell_type": "code",
   "execution_count": 7,
   "id": "094842c5",
   "metadata": {},
   "outputs": [
    {
     "data": {
      "text/html": [
       "<div>\n",
       "<style scoped>\n",
       "    .dataframe tbody tr th:only-of-type {\n",
       "        vertical-align: middle;\n",
       "    }\n",
       "\n",
       "    .dataframe tbody tr th {\n",
       "        vertical-align: top;\n",
       "    }\n",
       "\n",
       "    .dataframe thead th {\n",
       "        text-align: right;\n",
       "    }\n",
       "</style>\n",
       "<table border=\"1\" class=\"dataframe\">\n",
       "  <thead>\n",
       "    <tr style=\"text-align: right;\">\n",
       "      <th></th>\n",
       "      <th>PassengerId</th>\n",
       "      <th>HomePlanet</th>\n",
       "      <th>CryoSleep</th>\n",
       "      <th>Cabin</th>\n",
       "      <th>Destination</th>\n",
       "      <th>Age</th>\n",
       "      <th>VIP</th>\n",
       "      <th>RoomService</th>\n",
       "      <th>FoodCourt</th>\n",
       "      <th>ShoppingMall</th>\n",
       "      <th>Spa</th>\n",
       "      <th>VRDeck</th>\n",
       "      <th>Name</th>\n",
       "      <th>Transported</th>\n",
       "    </tr>\n",
       "  </thead>\n",
       "  <tbody>\n",
       "    <tr>\n",
       "      <th>0</th>\n",
       "      <td>0001_01</td>\n",
       "      <td>Europa</td>\n",
       "      <td>0.0</td>\n",
       "      <td>B/0/P</td>\n",
       "      <td>TRAPPIST-1e</td>\n",
       "      <td>39.0</td>\n",
       "      <td>0.0</td>\n",
       "      <td>0.0</td>\n",
       "      <td>0.0</td>\n",
       "      <td>0.0</td>\n",
       "      <td>0.0</td>\n",
       "      <td>0.0</td>\n",
       "      <td>Maham Ofracculy</td>\n",
       "      <td>0</td>\n",
       "    </tr>\n",
       "    <tr>\n",
       "      <th>1</th>\n",
       "      <td>0002_01</td>\n",
       "      <td>Earth</td>\n",
       "      <td>0.0</td>\n",
       "      <td>F/0/S</td>\n",
       "      <td>TRAPPIST-1e</td>\n",
       "      <td>24.0</td>\n",
       "      <td>0.0</td>\n",
       "      <td>109.0</td>\n",
       "      <td>9.0</td>\n",
       "      <td>25.0</td>\n",
       "      <td>549.0</td>\n",
       "      <td>44.0</td>\n",
       "      <td>Juanna Vines</td>\n",
       "      <td>1</td>\n",
       "    </tr>\n",
       "    <tr>\n",
       "      <th>2</th>\n",
       "      <td>0003_01</td>\n",
       "      <td>Europa</td>\n",
       "      <td>0.0</td>\n",
       "      <td>A/0/S</td>\n",
       "      <td>TRAPPIST-1e</td>\n",
       "      <td>58.0</td>\n",
       "      <td>1.0</td>\n",
       "      <td>43.0</td>\n",
       "      <td>3576.0</td>\n",
       "      <td>0.0</td>\n",
       "      <td>6715.0</td>\n",
       "      <td>49.0</td>\n",
       "      <td>Altark Susent</td>\n",
       "      <td>0</td>\n",
       "    </tr>\n",
       "    <tr>\n",
       "      <th>3</th>\n",
       "      <td>0003_02</td>\n",
       "      <td>Europa</td>\n",
       "      <td>0.0</td>\n",
       "      <td>A/0/S</td>\n",
       "      <td>TRAPPIST-1e</td>\n",
       "      <td>33.0</td>\n",
       "      <td>0.0</td>\n",
       "      <td>0.0</td>\n",
       "      <td>1283.0</td>\n",
       "      <td>371.0</td>\n",
       "      <td>3329.0</td>\n",
       "      <td>193.0</td>\n",
       "      <td>Solam Susent</td>\n",
       "      <td>0</td>\n",
       "    </tr>\n",
       "    <tr>\n",
       "      <th>4</th>\n",
       "      <td>0004_01</td>\n",
       "      <td>Earth</td>\n",
       "      <td>0.0</td>\n",
       "      <td>F/1/S</td>\n",
       "      <td>TRAPPIST-1e</td>\n",
       "      <td>16.0</td>\n",
       "      <td>0.0</td>\n",
       "      <td>303.0</td>\n",
       "      <td>70.0</td>\n",
       "      <td>151.0</td>\n",
       "      <td>565.0</td>\n",
       "      <td>2.0</td>\n",
       "      <td>Willy Santantines</td>\n",
       "      <td>1</td>\n",
       "    </tr>\n",
       "    <tr>\n",
       "      <th>5</th>\n",
       "      <td>0005_01</td>\n",
       "      <td>Earth</td>\n",
       "      <td>0.0</td>\n",
       "      <td>F/0/P</td>\n",
       "      <td>PSO J318.5-22</td>\n",
       "      <td>44.0</td>\n",
       "      <td>0.0</td>\n",
       "      <td>0.0</td>\n",
       "      <td>483.0</td>\n",
       "      <td>0.0</td>\n",
       "      <td>291.0</td>\n",
       "      <td>0.0</td>\n",
       "      <td>Sandie Hinetthews</td>\n",
       "      <td>1</td>\n",
       "    </tr>\n",
       "    <tr>\n",
       "      <th>6</th>\n",
       "      <td>0006_01</td>\n",
       "      <td>Earth</td>\n",
       "      <td>0.0</td>\n",
       "      <td>F/2/S</td>\n",
       "      <td>TRAPPIST-1e</td>\n",
       "      <td>26.0</td>\n",
       "      <td>0.0</td>\n",
       "      <td>42.0</td>\n",
       "      <td>1539.0</td>\n",
       "      <td>3.0</td>\n",
       "      <td>0.0</td>\n",
       "      <td>0.0</td>\n",
       "      <td>Billex Jacostaffey</td>\n",
       "      <td>1</td>\n",
       "    </tr>\n",
       "    <tr>\n",
       "      <th>7</th>\n",
       "      <td>0006_02</td>\n",
       "      <td>Earth</td>\n",
       "      <td>1.0</td>\n",
       "      <td>G/0/S</td>\n",
       "      <td>TRAPPIST-1e</td>\n",
       "      <td>28.0</td>\n",
       "      <td>0.0</td>\n",
       "      <td>0.0</td>\n",
       "      <td>0.0</td>\n",
       "      <td>0.0</td>\n",
       "      <td>0.0</td>\n",
       "      <td>NaN</td>\n",
       "      <td>Candra Jacostaffey</td>\n",
       "      <td>1</td>\n",
       "    </tr>\n",
       "    <tr>\n",
       "      <th>8</th>\n",
       "      <td>0007_01</td>\n",
       "      <td>Earth</td>\n",
       "      <td>0.0</td>\n",
       "      <td>F/3/S</td>\n",
       "      <td>TRAPPIST-1e</td>\n",
       "      <td>35.0</td>\n",
       "      <td>0.0</td>\n",
       "      <td>0.0</td>\n",
       "      <td>785.0</td>\n",
       "      <td>17.0</td>\n",
       "      <td>216.0</td>\n",
       "      <td>0.0</td>\n",
       "      <td>Andona Beston</td>\n",
       "      <td>1</td>\n",
       "    </tr>\n",
       "    <tr>\n",
       "      <th>9</th>\n",
       "      <td>0008_01</td>\n",
       "      <td>Europa</td>\n",
       "      <td>1.0</td>\n",
       "      <td>B/1/P</td>\n",
       "      <td>55 Cancri e</td>\n",
       "      <td>14.0</td>\n",
       "      <td>0.0</td>\n",
       "      <td>0.0</td>\n",
       "      <td>0.0</td>\n",
       "      <td>0.0</td>\n",
       "      <td>0.0</td>\n",
       "      <td>0.0</td>\n",
       "      <td>Erraiam Flatic</td>\n",
       "      <td>1</td>\n",
       "    </tr>\n",
       "  </tbody>\n",
       "</table>\n",
       "</div>"
      ],
      "text/plain": [
       "  PassengerId HomePlanet  CryoSleep  Cabin    Destination   Age  VIP  \\\n",
       "0     0001_01     Europa        0.0  B/0/P    TRAPPIST-1e  39.0  0.0   \n",
       "1     0002_01      Earth        0.0  F/0/S    TRAPPIST-1e  24.0  0.0   \n",
       "2     0003_01     Europa        0.0  A/0/S    TRAPPIST-1e  58.0  1.0   \n",
       "3     0003_02     Europa        0.0  A/0/S    TRAPPIST-1e  33.0  0.0   \n",
       "4     0004_01      Earth        0.0  F/1/S    TRAPPIST-1e  16.0  0.0   \n",
       "5     0005_01      Earth        0.0  F/0/P  PSO J318.5-22  44.0  0.0   \n",
       "6     0006_01      Earth        0.0  F/2/S    TRAPPIST-1e  26.0  0.0   \n",
       "7     0006_02      Earth        1.0  G/0/S    TRAPPIST-1e  28.0  0.0   \n",
       "8     0007_01      Earth        0.0  F/3/S    TRAPPIST-1e  35.0  0.0   \n",
       "9     0008_01     Europa        1.0  B/1/P    55 Cancri e  14.0  0.0   \n",
       "\n",
       "   RoomService  FoodCourt  ShoppingMall     Spa  VRDeck                Name  \\\n",
       "0          0.0        0.0           0.0     0.0     0.0     Maham Ofracculy   \n",
       "1        109.0        9.0          25.0   549.0    44.0        Juanna Vines   \n",
       "2         43.0     3576.0           0.0  6715.0    49.0       Altark Susent   \n",
       "3          0.0     1283.0         371.0  3329.0   193.0        Solam Susent   \n",
       "4        303.0       70.0         151.0   565.0     2.0   Willy Santantines   \n",
       "5          0.0      483.0           0.0   291.0     0.0   Sandie Hinetthews   \n",
       "6         42.0     1539.0           3.0     0.0     0.0  Billex Jacostaffey   \n",
       "7          0.0        0.0           0.0     0.0     NaN  Candra Jacostaffey   \n",
       "8          0.0      785.0          17.0   216.0     0.0       Andona Beston   \n",
       "9          0.0        0.0           0.0     0.0     0.0      Erraiam Flatic   \n",
       "\n",
       "   Transported  \n",
       "0            0  \n",
       "1            1  \n",
       "2            0  \n",
       "3            0  \n",
       "4            1  \n",
       "5            1  \n",
       "6            1  \n",
       "7            1  \n",
       "8            1  \n",
       "9            1  "
      ]
     },
     "execution_count": 7,
     "metadata": {},
     "output_type": "execute_result"
    }
   ],
   "source": [
    "ctrain['CryoSleep'] = ctrain['CryoSleep'].map({True:1, False:0})\n",
    "ctrain['VIP'] = ctrain['VIP'].map({True:1, False:0})\n",
    "ctrain['Transported'] = ctrain['Transported'].map({True:1, False:0})\n",
    "ctrain.head(10)"
   ]
  },
  {
   "cell_type": "markdown",
   "id": "c2b8af79",
   "metadata": {},
   "source": [
    "Let's divide the feature **Cabin** into thre features: **Deck**, **Num**, **Side**"
   ]
  },
  {
   "cell_type": "code",
   "execution_count": 8,
   "id": "b221968c",
   "metadata": {},
   "outputs": [],
   "source": [
    "cabin = ctrain['Cabin'].str.split(\"/\",expand=True)"
   ]
  },
  {
   "cell_type": "code",
   "execution_count": 9,
   "id": "04071b28",
   "metadata": {},
   "outputs": [],
   "source": [
    "ctrain = pd.concat([ctrain,cabin], axis=1)\n",
    "ctrain.rename(columns={0:'Deck', 1:'Num', 2:'Port'}, inplace=True)"
   ]
  },
  {
   "cell_type": "code",
   "execution_count": 10,
   "id": "a7118718",
   "metadata": {},
   "outputs": [
    {
     "data": {
      "text/html": [
       "<div>\n",
       "<style scoped>\n",
       "    .dataframe tbody tr th:only-of-type {\n",
       "        vertical-align: middle;\n",
       "    }\n",
       "\n",
       "    .dataframe tbody tr th {\n",
       "        vertical-align: top;\n",
       "    }\n",
       "\n",
       "    .dataframe thead th {\n",
       "        text-align: right;\n",
       "    }\n",
       "</style>\n",
       "<table border=\"1\" class=\"dataframe\">\n",
       "  <thead>\n",
       "    <tr style=\"text-align: right;\">\n",
       "      <th></th>\n",
       "      <th>PassengerId</th>\n",
       "      <th>HomePlanet</th>\n",
       "      <th>CryoSleep</th>\n",
       "      <th>Destination</th>\n",
       "      <th>Age</th>\n",
       "      <th>VIP</th>\n",
       "      <th>RoomService</th>\n",
       "      <th>FoodCourt</th>\n",
       "      <th>ShoppingMall</th>\n",
       "      <th>Spa</th>\n",
       "      <th>VRDeck</th>\n",
       "      <th>Name</th>\n",
       "      <th>Transported</th>\n",
       "      <th>Deck</th>\n",
       "      <th>Num</th>\n",
       "      <th>Port</th>\n",
       "    </tr>\n",
       "  </thead>\n",
       "  <tbody>\n",
       "    <tr>\n",
       "      <th>0</th>\n",
       "      <td>0001_01</td>\n",
       "      <td>Europa</td>\n",
       "      <td>0.0</td>\n",
       "      <td>TRAPPIST-1e</td>\n",
       "      <td>39.0</td>\n",
       "      <td>0.0</td>\n",
       "      <td>0.0</td>\n",
       "      <td>0.0</td>\n",
       "      <td>0.0</td>\n",
       "      <td>0.0</td>\n",
       "      <td>0.0</td>\n",
       "      <td>Maham Ofracculy</td>\n",
       "      <td>0</td>\n",
       "      <td>B</td>\n",
       "      <td>0</td>\n",
       "      <td>P</td>\n",
       "    </tr>\n",
       "    <tr>\n",
       "      <th>1</th>\n",
       "      <td>0002_01</td>\n",
       "      <td>Earth</td>\n",
       "      <td>0.0</td>\n",
       "      <td>TRAPPIST-1e</td>\n",
       "      <td>24.0</td>\n",
       "      <td>0.0</td>\n",
       "      <td>109.0</td>\n",
       "      <td>9.0</td>\n",
       "      <td>25.0</td>\n",
       "      <td>549.0</td>\n",
       "      <td>44.0</td>\n",
       "      <td>Juanna Vines</td>\n",
       "      <td>1</td>\n",
       "      <td>F</td>\n",
       "      <td>0</td>\n",
       "      <td>S</td>\n",
       "    </tr>\n",
       "    <tr>\n",
       "      <th>2</th>\n",
       "      <td>0003_01</td>\n",
       "      <td>Europa</td>\n",
       "      <td>0.0</td>\n",
       "      <td>TRAPPIST-1e</td>\n",
       "      <td>58.0</td>\n",
       "      <td>1.0</td>\n",
       "      <td>43.0</td>\n",
       "      <td>3576.0</td>\n",
       "      <td>0.0</td>\n",
       "      <td>6715.0</td>\n",
       "      <td>49.0</td>\n",
       "      <td>Altark Susent</td>\n",
       "      <td>0</td>\n",
       "      <td>A</td>\n",
       "      <td>0</td>\n",
       "      <td>S</td>\n",
       "    </tr>\n",
       "    <tr>\n",
       "      <th>3</th>\n",
       "      <td>0003_02</td>\n",
       "      <td>Europa</td>\n",
       "      <td>0.0</td>\n",
       "      <td>TRAPPIST-1e</td>\n",
       "      <td>33.0</td>\n",
       "      <td>0.0</td>\n",
       "      <td>0.0</td>\n",
       "      <td>1283.0</td>\n",
       "      <td>371.0</td>\n",
       "      <td>3329.0</td>\n",
       "      <td>193.0</td>\n",
       "      <td>Solam Susent</td>\n",
       "      <td>0</td>\n",
       "      <td>A</td>\n",
       "      <td>0</td>\n",
       "      <td>S</td>\n",
       "    </tr>\n",
       "    <tr>\n",
       "      <th>4</th>\n",
       "      <td>0004_01</td>\n",
       "      <td>Earth</td>\n",
       "      <td>0.0</td>\n",
       "      <td>TRAPPIST-1e</td>\n",
       "      <td>16.0</td>\n",
       "      <td>0.0</td>\n",
       "      <td>303.0</td>\n",
       "      <td>70.0</td>\n",
       "      <td>151.0</td>\n",
       "      <td>565.0</td>\n",
       "      <td>2.0</td>\n",
       "      <td>Willy Santantines</td>\n",
       "      <td>1</td>\n",
       "      <td>F</td>\n",
       "      <td>1</td>\n",
       "      <td>S</td>\n",
       "    </tr>\n",
       "    <tr>\n",
       "      <th>...</th>\n",
       "      <td>...</td>\n",
       "      <td>...</td>\n",
       "      <td>...</td>\n",
       "      <td>...</td>\n",
       "      <td>...</td>\n",
       "      <td>...</td>\n",
       "      <td>...</td>\n",
       "      <td>...</td>\n",
       "      <td>...</td>\n",
       "      <td>...</td>\n",
       "      <td>...</td>\n",
       "      <td>...</td>\n",
       "      <td>...</td>\n",
       "      <td>...</td>\n",
       "      <td>...</td>\n",
       "      <td>...</td>\n",
       "    </tr>\n",
       "    <tr>\n",
       "      <th>8688</th>\n",
       "      <td>9276_01</td>\n",
       "      <td>Europa</td>\n",
       "      <td>0.0</td>\n",
       "      <td>55 Cancri e</td>\n",
       "      <td>41.0</td>\n",
       "      <td>1.0</td>\n",
       "      <td>0.0</td>\n",
       "      <td>6819.0</td>\n",
       "      <td>0.0</td>\n",
       "      <td>1643.0</td>\n",
       "      <td>74.0</td>\n",
       "      <td>Gravior Noxnuther</td>\n",
       "      <td>0</td>\n",
       "      <td>A</td>\n",
       "      <td>98</td>\n",
       "      <td>P</td>\n",
       "    </tr>\n",
       "    <tr>\n",
       "      <th>8689</th>\n",
       "      <td>9278_01</td>\n",
       "      <td>Earth</td>\n",
       "      <td>1.0</td>\n",
       "      <td>PSO J318.5-22</td>\n",
       "      <td>18.0</td>\n",
       "      <td>0.0</td>\n",
       "      <td>0.0</td>\n",
       "      <td>0.0</td>\n",
       "      <td>0.0</td>\n",
       "      <td>0.0</td>\n",
       "      <td>0.0</td>\n",
       "      <td>Kurta Mondalley</td>\n",
       "      <td>0</td>\n",
       "      <td>G</td>\n",
       "      <td>1499</td>\n",
       "      <td>S</td>\n",
       "    </tr>\n",
       "    <tr>\n",
       "      <th>8690</th>\n",
       "      <td>9279_01</td>\n",
       "      <td>Earth</td>\n",
       "      <td>0.0</td>\n",
       "      <td>TRAPPIST-1e</td>\n",
       "      <td>26.0</td>\n",
       "      <td>0.0</td>\n",
       "      <td>0.0</td>\n",
       "      <td>0.0</td>\n",
       "      <td>1872.0</td>\n",
       "      <td>1.0</td>\n",
       "      <td>0.0</td>\n",
       "      <td>Fayey Connon</td>\n",
       "      <td>1</td>\n",
       "      <td>G</td>\n",
       "      <td>1500</td>\n",
       "      <td>S</td>\n",
       "    </tr>\n",
       "    <tr>\n",
       "      <th>8691</th>\n",
       "      <td>9280_01</td>\n",
       "      <td>Europa</td>\n",
       "      <td>0.0</td>\n",
       "      <td>55 Cancri e</td>\n",
       "      <td>32.0</td>\n",
       "      <td>0.0</td>\n",
       "      <td>0.0</td>\n",
       "      <td>1049.0</td>\n",
       "      <td>0.0</td>\n",
       "      <td>353.0</td>\n",
       "      <td>3235.0</td>\n",
       "      <td>Celeon Hontichre</td>\n",
       "      <td>0</td>\n",
       "      <td>E</td>\n",
       "      <td>608</td>\n",
       "      <td>S</td>\n",
       "    </tr>\n",
       "    <tr>\n",
       "      <th>8692</th>\n",
       "      <td>9280_02</td>\n",
       "      <td>Europa</td>\n",
       "      <td>0.0</td>\n",
       "      <td>TRAPPIST-1e</td>\n",
       "      <td>44.0</td>\n",
       "      <td>0.0</td>\n",
       "      <td>126.0</td>\n",
       "      <td>4688.0</td>\n",
       "      <td>0.0</td>\n",
       "      <td>0.0</td>\n",
       "      <td>12.0</td>\n",
       "      <td>Propsh Hontichre</td>\n",
       "      <td>1</td>\n",
       "      <td>E</td>\n",
       "      <td>608</td>\n",
       "      <td>S</td>\n",
       "    </tr>\n",
       "  </tbody>\n",
       "</table>\n",
       "<p>8693 rows × 16 columns</p>\n",
       "</div>"
      ],
      "text/plain": [
       "     PassengerId HomePlanet  CryoSleep    Destination   Age  VIP  RoomService  \\\n",
       "0        0001_01     Europa        0.0    TRAPPIST-1e  39.0  0.0          0.0   \n",
       "1        0002_01      Earth        0.0    TRAPPIST-1e  24.0  0.0        109.0   \n",
       "2        0003_01     Europa        0.0    TRAPPIST-1e  58.0  1.0         43.0   \n",
       "3        0003_02     Europa        0.0    TRAPPIST-1e  33.0  0.0          0.0   \n",
       "4        0004_01      Earth        0.0    TRAPPIST-1e  16.0  0.0        303.0   \n",
       "...          ...        ...        ...            ...   ...  ...          ...   \n",
       "8688     9276_01     Europa        0.0    55 Cancri e  41.0  1.0          0.0   \n",
       "8689     9278_01      Earth        1.0  PSO J318.5-22  18.0  0.0          0.0   \n",
       "8690     9279_01      Earth        0.0    TRAPPIST-1e  26.0  0.0          0.0   \n",
       "8691     9280_01     Europa        0.0    55 Cancri e  32.0  0.0          0.0   \n",
       "8692     9280_02     Europa        0.0    TRAPPIST-1e  44.0  0.0        126.0   \n",
       "\n",
       "      FoodCourt  ShoppingMall     Spa  VRDeck               Name  Transported  \\\n",
       "0           0.0           0.0     0.0     0.0    Maham Ofracculy            0   \n",
       "1           9.0          25.0   549.0    44.0       Juanna Vines            1   \n",
       "2        3576.0           0.0  6715.0    49.0      Altark Susent            0   \n",
       "3        1283.0         371.0  3329.0   193.0       Solam Susent            0   \n",
       "4          70.0         151.0   565.0     2.0  Willy Santantines            1   \n",
       "...         ...           ...     ...     ...                ...          ...   \n",
       "8688     6819.0           0.0  1643.0    74.0  Gravior Noxnuther            0   \n",
       "8689        0.0           0.0     0.0     0.0    Kurta Mondalley            0   \n",
       "8690        0.0        1872.0     1.0     0.0       Fayey Connon            1   \n",
       "8691     1049.0           0.0   353.0  3235.0   Celeon Hontichre            0   \n",
       "8692     4688.0           0.0     0.0    12.0   Propsh Hontichre            1   \n",
       "\n",
       "     Deck   Num Port  \n",
       "0       B     0    P  \n",
       "1       F     0    S  \n",
       "2       A     0    S  \n",
       "3       A     0    S  \n",
       "4       F     1    S  \n",
       "...   ...   ...  ...  \n",
       "8688    A    98    P  \n",
       "8689    G  1499    S  \n",
       "8690    G  1500    S  \n",
       "8691    E   608    S  \n",
       "8692    E   608    S  \n",
       "\n",
       "[8693 rows x 16 columns]"
      ]
     },
     "execution_count": 10,
     "metadata": {},
     "output_type": "execute_result"
    }
   ],
   "source": [
    "# Remove the feature 'Cabin'\n",
    "ctrain.drop(['Cabin'], axis=1)"
   ]
  },
  {
   "cell_type": "code",
   "execution_count": 11,
   "id": "fc7a3f67",
   "metadata": {},
   "outputs": [
    {
     "name": "stdout",
     "output_type": "stream",
     "text": [
      "Data description:\n",
      "Total number of records: 8693\n",
      "Total number of columns/features/variables: 17\n",
      "\n",
      "\n",
      "            Name     Type  Unique levels  Missing\n",
      "0    PassengerId   object           8693        0\n",
      "1     HomePlanet   object              3      201\n",
      "2      CryoSleep  float64              2      217\n",
      "3          Cabin   object           6560      199\n",
      "4    Destination   object              3      182\n",
      "5            Age  float64             80      179\n",
      "6            VIP  float64              2      203\n",
      "7    RoomService  float64           1273      181\n",
      "8      FoodCourt  float64           1507      183\n",
      "9   ShoppingMall  float64           1115      208\n",
      "10           Spa  float64           1327      183\n",
      "11        VRDeck  float64           1306      188\n",
      "12          Name   object           8473      200\n",
      "13   Transported    int64              2        0\n",
      "14          Deck   object              8      199\n",
      "15           Num   object           1817      199\n",
      "16          Port   object              2      199\n"
     ]
    }
   ],
   "source": [
    "dfInfo(ctrain)"
   ]
  },
  {
   "cell_type": "code",
   "execution_count": 12,
   "id": "90c4d5b0",
   "metadata": {},
   "outputs": [],
   "source": [
    "ctrain['Num'] = pd.to_numeric(ctrain['Num'], errors='coerce')"
   ]
  },
  {
   "cell_type": "code",
   "execution_count": 13,
   "id": "ac2ab105",
   "metadata": {},
   "outputs": [
    {
     "data": {
      "text/plain": [
       "dtype('float64')"
      ]
     },
     "execution_count": 13,
     "metadata": {},
     "output_type": "execute_result"
    }
   ],
   "source": [
    "ctrain['Num'].dtype"
   ]
  },
  {
   "cell_type": "markdown",
   "id": "a84d282f",
   "metadata": {},
   "source": [
    "## Data visualizations"
   ]
  },
  {
   "cell_type": "markdown",
   "id": "3a341993",
   "metadata": {},
   "source": [
    "Let's divide the qualitative and quantitative variables"
   ]
  },
  {
   "cell_type": "code",
   "execution_count": 14,
   "id": "22d44e0c",
   "metadata": {},
   "outputs": [],
   "source": [
    "quantitative = [var for var in ctrain.columns if ctrain[var].dtype != 'object']\n",
    "quantitative.remove('Transported')\n",
    "qualitative = [var for var in ctrain.columns if ctrain[var].dtype == 'object']"
   ]
  },
  {
   "cell_type": "code",
   "execution_count": 15,
   "id": "e09426fe",
   "metadata": {},
   "outputs": [
    {
     "data": {
      "image/png": "[encoded data removed]",
      "text/plain": [
       "<Figure size 720x720 with 10 Axes>"
      ]
     },
     "metadata": {
      "needs_background": "light"
     },
     "output_type": "display_data"
    }
   ],
   "source": [
    "# Histogram\n",
    "ctrain[quantitative + ['Transported']].hist(figsize=(10,10), layout=(5,2), sharex=False, sharey=False)\n",
    "plt.show()"
   ]
  },
  {
   "cell_type": "code",
   "execution_count": 16,
   "id": "f96b7f83",
   "metadata": {},
   "outputs": [
    {
     "data": {
      "image/png": "[encoded data removed]",
      "text/plain": [
       "<Figure size 720x432 with 1 Axes>"
      ]
     },
     "metadata": {
      "needs_background": "light"
     },
     "output_type": "display_data"
    }
   ],
   "source": [
    "# Box plot\n",
    "ctrain[quantitative + ['Transported']].plot(kind='box', figsize=(10,6), layout=(5,2), sharex=False, sharey=False)\n",
    "plt.show()"
   ]
  },
  {
   "cell_type": "code",
   "execution_count": 17,
   "id": "9d5fad80",
   "metadata": {},
   "outputs": [
    {
     "name": "stdout",
     "output_type": "stream",
     "text": [
      "              CryoSleep       Age       VIP  RoomService  FoodCourt  \\\n",
      "CryoSleep      1.000000 -0.074273 -0.081402    -0.252396  -0.211510   \n",
      "Age           -0.074273  1.000000  0.092819     0.068723   0.130421   \n",
      "VIP           -0.081402  0.092819  1.000000     0.058785   0.129799   \n",
      "RoomService   -0.252396  0.068723  0.058785     1.000000  -0.015889   \n",
      "FoodCourt     -0.211510  0.130421  0.129799    -0.015889   1.000000   \n",
      "ShoppingMall  -0.212514  0.033133  0.018295     0.054480  -0.014228   \n",
      "Spa           -0.203991  0.123970  0.061059     0.010080   0.221891   \n",
      "VRDeck        -0.198857  0.101007  0.125974    -0.019581   0.227995   \n",
      "Transported    0.468645 -0.075026 -0.037650    -0.244611   0.046566   \n",
      "Num           -0.037560 -0.132255 -0.099416    -0.008986  -0.183429   \n",
      "\n",
      "              ShoppingMall       Spa    VRDeck  Transported       Num  \n",
      "CryoSleep        -0.212514 -0.203991 -0.198857     0.468645 -0.037560  \n",
      "Age               0.033133  0.123970  0.101007    -0.075026 -0.132255  \n",
      "VIP               0.018295  0.061059  0.125974    -0.037650 -0.099416  \n",
      "RoomService       0.054480  0.010080 -0.019581    -0.244611 -0.008986  \n",
      "FoodCourt        -0.014228  0.221891  0.227995     0.046566 -0.183429  \n",
      "ShoppingMall      1.000000  0.013879 -0.007322     0.010141  0.001727  \n",
      "Spa               0.013879  1.000000  0.153821    -0.221131 -0.131342  \n",
      "VRDeck           -0.007322  0.153821  1.000000    -0.207075 -0.139080  \n",
      "Transported       0.010141 -0.221131 -0.207075     1.000000 -0.045097  \n",
      "Num               0.001727 -0.131342 -0.139080    -0.045097  1.000000  \n"
     ]
    }
   ],
   "source": [
    "# Correlation matrix\n",
    "corr_matrix = ctrain.corr(method='pearson')\n",
    "print(corr_matrix)"
   ]
  },
  {
   "cell_type": "code",
   "execution_count": 18,
   "id": "e7125faa",
   "metadata": {},
   "outputs": [
    {
     "data": {
      "image/png": "[encoded data removed]",
      "text/plain": [
       "<Figure size 576x576 with 2 Axes>"
      ]
     },
     "metadata": {
      "needs_background": "light"
     },
     "output_type": "display_data"
    }
   ],
   "source": [
    "fig = plt.figure(figsize=(8,8))\n",
    "fig.suptitle(\"Correlation Matrix\")\n",
    "ax = fig.add_subplot(111)\n",
    "cax = ax.matshow(corr_matrix, vmin=-1, vmax=1, interpolation='none')\n",
    "fig.colorbar(cax)\n",
    "names = ['CryoSleep','Age','VIP','RoomService','FoodCourt','ShoppingMall','Spa','VRDeck','Transported','Num']\n",
    "ticks = np.arange(0,10,1)\n",
    "ax.set_xticks(ticks)\n",
    "ax.set_yticks(ticks)\n",
    "ax.set_xticklabels(names)\n",
    "ax.set_yticklabels(names)\n",
    "plt.show()"
   ]
  },
  {
   "cell_type": "markdown",
   "id": "009f85be",
   "metadata": {},
   "source": [
    "## Fill missing data"
   ]
  },
  {
   "cell_type": "code",
   "execution_count": 19,
   "id": "39fc584d",
   "metadata": {},
   "outputs": [
    {
     "name": "stdout",
     "output_type": "stream",
     "text": [
      "Data description:\n",
      "Total number of records: 8693\n",
      "Total number of columns/features/variables: 9\n",
      "\n",
      "\n",
      "           Name     Type  Unique levels  Missing\n",
      "0     CryoSleep  float64              2      217\n",
      "1           Age  float64             80      179\n",
      "2           VIP  float64              2      203\n",
      "3   RoomService  float64           1273      181\n",
      "4     FoodCourt  float64           1507      183\n",
      "5  ShoppingMall  float64           1115      208\n",
      "6           Spa  float64           1327      183\n",
      "7        VRDeck  float64           1306      188\n",
      "8           Num  float64           1817      199\n"
     ]
    }
   ],
   "source": [
    "dfInfo(ctrain[quantitative])"
   ]
  },
  {
   "cell_type": "code",
   "execution_count": 20,
   "id": "6d6c5d29",
   "metadata": {},
   "outputs": [
    {
     "data": {
      "text/html": [
       "<div>\n",
       "<style scoped>\n",
       "    .dataframe tbody tr th:only-of-type {\n",
       "        vertical-align: middle;\n",
       "    }\n",
       "\n",
       "    .dataframe tbody tr th {\n",
       "        vertical-align: top;\n",
       "    }\n",
       "\n",
       "    .dataframe thead th {\n",
       "        text-align: right;\n",
       "    }\n",
       "</style>\n",
       "<table border=\"1\" class=\"dataframe\">\n",
       "  <thead>\n",
       "    <tr style=\"text-align: right;\">\n",
       "      <th></th>\n",
       "      <th>CryoSleep</th>\n",
       "      <th>Age</th>\n",
       "      <th>VIP</th>\n",
       "      <th>RoomService</th>\n",
       "      <th>FoodCourt</th>\n",
       "      <th>ShoppingMall</th>\n",
       "      <th>Spa</th>\n",
       "      <th>VRDeck</th>\n",
       "      <th>Num</th>\n",
       "    </tr>\n",
       "  </thead>\n",
       "  <tbody>\n",
       "    <tr>\n",
       "      <th>count</th>\n",
       "      <td>8476.000000</td>\n",
       "      <td>8514.000000</td>\n",
       "      <td>8490.000000</td>\n",
       "      <td>8512.000000</td>\n",
       "      <td>8510.000000</td>\n",
       "      <td>8485.000000</td>\n",
       "      <td>8510.000000</td>\n",
       "      <td>8505.000000</td>\n",
       "      <td>8494.000000</td>\n",
       "    </tr>\n",
       "    <tr>\n",
       "      <th>mean</th>\n",
       "      <td>0.358306</td>\n",
       "      <td>28.827930</td>\n",
       "      <td>0.023439</td>\n",
       "      <td>224.687617</td>\n",
       "      <td>458.077203</td>\n",
       "      <td>173.729169</td>\n",
       "      <td>311.138778</td>\n",
       "      <td>304.854791</td>\n",
       "      <td>600.367671</td>\n",
       "    </tr>\n",
       "    <tr>\n",
       "      <th>std</th>\n",
       "      <td>0.479531</td>\n",
       "      <td>14.489021</td>\n",
       "      <td>0.151303</td>\n",
       "      <td>666.717663</td>\n",
       "      <td>1611.489240</td>\n",
       "      <td>604.696458</td>\n",
       "      <td>1136.705535</td>\n",
       "      <td>1145.717189</td>\n",
       "      <td>511.867226</td>\n",
       "    </tr>\n",
       "    <tr>\n",
       "      <th>min</th>\n",
       "      <td>0.000000</td>\n",
       "      <td>0.000000</td>\n",
       "      <td>0.000000</td>\n",
       "      <td>0.000000</td>\n",
       "      <td>0.000000</td>\n",
       "      <td>0.000000</td>\n",
       "      <td>0.000000</td>\n",
       "      <td>0.000000</td>\n",
       "      <td>0.000000</td>\n",
       "    </tr>\n",
       "    <tr>\n",
       "      <th>25%</th>\n",
       "      <td>0.000000</td>\n",
       "      <td>19.000000</td>\n",
       "      <td>0.000000</td>\n",
       "      <td>0.000000</td>\n",
       "      <td>0.000000</td>\n",
       "      <td>0.000000</td>\n",
       "      <td>0.000000</td>\n",
       "      <td>0.000000</td>\n",
       "      <td>167.250000</td>\n",
       "    </tr>\n",
       "    <tr>\n",
       "      <th>50%</th>\n",
       "      <td>0.000000</td>\n",
       "      <td>27.000000</td>\n",
       "      <td>0.000000</td>\n",
       "      <td>0.000000</td>\n",
       "      <td>0.000000</td>\n",
       "      <td>0.000000</td>\n",
       "      <td>0.000000</td>\n",
       "      <td>0.000000</td>\n",
       "      <td>427.000000</td>\n",
       "    </tr>\n",
       "    <tr>\n",
       "      <th>75%</th>\n",
       "      <td>1.000000</td>\n",
       "      <td>38.000000</td>\n",
       "      <td>0.000000</td>\n",
       "      <td>47.000000</td>\n",
       "      <td>76.000000</td>\n",
       "      <td>27.000000</td>\n",
       "      <td>59.000000</td>\n",
       "      <td>46.000000</td>\n",
       "      <td>999.000000</td>\n",
       "    </tr>\n",
       "    <tr>\n",
       "      <th>max</th>\n",
       "      <td>1.000000</td>\n",
       "      <td>79.000000</td>\n",
       "      <td>1.000000</td>\n",
       "      <td>14327.000000</td>\n",
       "      <td>29813.000000</td>\n",
       "      <td>23492.000000</td>\n",
       "      <td>22408.000000</td>\n",
       "      <td>24133.000000</td>\n",
       "      <td>1894.000000</td>\n",
       "    </tr>\n",
       "  </tbody>\n",
       "</table>\n",
       "</div>"
      ],
      "text/plain": [
       "         CryoSleep          Age          VIP   RoomService     FoodCourt  \\\n",
       "count  8476.000000  8514.000000  8490.000000   8512.000000   8510.000000   \n",
       "mean      0.358306    28.827930     0.023439    224.687617    458.077203   \n",
       "std       0.479531    14.489021     0.151303    666.717663   1611.489240   \n",
       "min       0.000000     0.000000     0.000000      0.000000      0.000000   \n",
       "25%       0.000000    19.000000     0.000000      0.000000      0.000000   \n",
       "50%       0.000000    27.000000     0.000000      0.000000      0.000000   \n",
       "75%       1.000000    38.000000     0.000000     47.000000     76.000000   \n",
       "max       1.000000    79.000000     1.000000  14327.000000  29813.000000   \n",
       "\n",
       "       ShoppingMall           Spa        VRDeck          Num  \n",
       "count   8485.000000   8510.000000   8505.000000  8494.000000  \n",
       "mean     173.729169    311.138778    304.854791   600.367671  \n",
       "std      604.696458   1136.705535   1145.717189   511.867226  \n",
       "min        0.000000      0.000000      0.000000     0.000000  \n",
       "25%        0.000000      0.000000      0.000000   167.250000  \n",
       "50%        0.000000      0.000000      0.000000   427.000000  \n",
       "75%       27.000000     59.000000     46.000000   999.000000  \n",
       "max    23492.000000  22408.000000  24133.000000  1894.000000  "
      ]
     },
     "execution_count": 20,
     "metadata": {},
     "output_type": "execute_result"
    }
   ],
   "source": [
    "ctrain[quantitative].describe()"
   ]
  },
  {
   "cell_type": "code",
   "execution_count": 21,
   "id": "fc42cd8c",
   "metadata": {},
   "outputs": [],
   "source": [
    "ctrain['RoomService'] = ctrain['RoomService'].fillna(ctrain['RoomService'].median())\n",
    "ctrain['FoodCourt'] = ctrain['FoodCourt'].fillna(ctrain['FoodCourt'].median())\n",
    "ctrain['ShoppingMall'] = ctrain['ShoppingMall'].fillna(ctrain['ShoppingMall'].median())\n",
    "ctrain['Spa'] = ctrain['Spa'].fillna(ctrain['Spa'].median())\n",
    "ctrain['VRDeck'] = ctrain['VRDeck'].fillna(ctrain['VRDeck'].median())\n",
    "ctrain['Num'] = ctrain['Num'].fillna(ctrain['Num'].median())"
   ]
  },
  {
   "cell_type": "code",
   "execution_count": 22,
   "id": "e76241c4",
   "metadata": {},
   "outputs": [
    {
     "name": "stdout",
     "output_type": "stream",
     "text": [
      "Data description:\n",
      "Total number of records: 8693\n",
      "Total number of columns/features/variables: 9\n",
      "\n",
      "\n",
      "           Name     Type  Unique levels  Missing\n",
      "0     CryoSleep  float64              2      217\n",
      "1           Age  float64             80      179\n",
      "2           VIP  float64              2      203\n",
      "3   RoomService  float64           1273        0\n",
      "4     FoodCourt  float64           1507        0\n",
      "5  ShoppingMall  float64           1115        0\n",
      "6           Spa  float64           1327        0\n",
      "7        VRDeck  float64           1306        0\n",
      "8           Num  float64           1817        0\n"
     ]
    }
   ],
   "source": [
    "dfInfo(ctrain[quantitative])"
   ]
  },
  {
   "cell_type": "code",
   "execution_count": 23,
   "id": "07c779c2",
   "metadata": {},
   "outputs": [],
   "source": [
    "ctrain['Age'] = ctrain['Age'].fillna(ctrain['Age'].mean())"
   ]
  },
  {
   "cell_type": "code",
   "execution_count": 24,
   "id": "bd81e586",
   "metadata": {},
   "outputs": [
    {
     "name": "stdout",
     "output_type": "stream",
     "text": [
      "Passengers in CryoSleep: 3037 (34.936156%)\n",
      "VIP passengers: 199 (2.289198%)\n"
     ]
    }
   ],
   "source": [
    "print(\"Passengers in CryoSleep: %d (%f%%)\" % (ctrain['CryoSleep'].sum(), (ctrain['CryoSleep'].sum()/ctrain.shape[0])*100) )\n",
    "print(\"VIP passengers: %d (%f%%)\" % (ctrain['VIP'].sum(), (ctrain['VIP'].sum()/ctrain.shape[0])*100) ) "
   ]
  },
  {
   "cell_type": "code",
   "execution_count": 25,
   "id": "aa533aa8",
   "metadata": {},
   "outputs": [
    {
     "name": "stdout",
     "output_type": "stream",
     "text": [
      "Data description:\n",
      "Total number of records: 8693\n",
      "Total number of columns/features/variables: 10\n",
      "\n",
      "\n",
      "           Name     Type  Unique levels  Missing\n",
      "0     CryoSleep  float64              2      217\n",
      "1           Age  float64             81        0\n",
      "2           VIP  float64              2      203\n",
      "3   RoomService  float64           1273        0\n",
      "4     FoodCourt  float64           1507        0\n",
      "5  ShoppingMall  float64           1115        0\n",
      "6           Spa  float64           1327        0\n",
      "7        VRDeck  float64           1306        0\n",
      "8           Num  float64           1817        0\n",
      "9   Transported    int64              2        0\n"
     ]
    }
   ],
   "source": [
    "train_final = ctrain[quantitative + ['Transported']]\n",
    "dfInfo(train_final)"
   ]
  },
  {
   "cell_type": "code",
   "execution_count": 26,
   "id": "24fcd33c",
   "metadata": {},
   "outputs": [
    {
     "name": "stdout",
     "output_type": "stream",
     "text": [
      "Data description:\n",
      "Total number of records: 8280\n",
      "Total number of columns/features/variables: 10\n",
      "\n",
      "\n",
      "           Name     Type  Unique levels  Missing\n",
      "0     CryoSleep  float64              2        0\n",
      "1           Age  float64             81        0\n",
      "2           VIP  float64              2        0\n",
      "3   RoomService  float64           1235        0\n",
      "4     FoodCourt  float64           1458        0\n",
      "5  ShoppingMall  float64           1095        0\n",
      "6           Spa  float64           1288        0\n",
      "7        VRDeck  float64           1269        0\n",
      "8           Num  float64           1804        0\n",
      "9   Transported    int64              2        0\n"
     ]
    }
   ],
   "source": [
    "train_final = train_final.dropna()\n",
    "dfInfo(train_final)"
   ]
  },
  {
   "cell_type": "markdown",
   "id": "e534007f",
   "metadata": {},
   "source": [
    "## Evaluate algorithms"
   ]
  },
  {
   "cell_type": "code",
   "execution_count": 27,
   "id": "e147f041",
   "metadata": {},
   "outputs": [],
   "source": [
    "X = train_final.drop(['Transported'], axis=1).values\n",
    "Y = train_final['Transported'].values"
   ]
  },
  {
   "cell_type": "markdown",
   "id": "bdca215a",
   "metadata": {},
   "source": [
    "### Test Harness"
   ]
  },
  {
   "cell_type": "code",
   "execution_count": 28,
   "id": "f8824998",
   "metadata": {},
   "outputs": [],
   "source": [
    "from sklearn.model_selection import KFold\n",
    "from sklearn.model_selection import cross_val_score"
   ]
  },
  {
   "cell_type": "markdown",
   "id": "1b16060a",
   "metadata": {},
   "source": [
    "### Build Models"
   ]
  },
  {
   "cell_type": "code",
   "execution_count": 29,
   "id": "388db1d4",
   "metadata": {},
   "outputs": [],
   "source": [
    "from sklearn.linear_model import LogisticRegression\n",
    "from sklearn.tree import DecisionTreeClassifier\n",
    "from sklearn.neighbors import KNeighborsClassifier\n",
    "from sklearn.discriminant_analysis import LinearDiscriminantAnalysis\n",
    "from sklearn.naive_bayes import GaussianNB\n",
    "from sklearn.svm import SVC"
   ]
  },
  {
   "cell_type": "code",
   "execution_count": 30,
   "id": "fb250bf9",
   "metadata": {},
   "outputs": [],
   "source": [
    "import warnings\n",
    "warnings.filterwarnings('ignore')"
   ]
  },
  {
   "cell_type": "code",
   "execution_count": 31,
   "id": "6f2d99e7",
   "metadata": {},
   "outputs": [],
   "source": [
    "# Spot-check algorithms\n",
    "models = []\n",
    "models.append(('LR', LogisticRegression()))\n",
    "models.append(('CART', DecisionTreeClassifier()))\n",
    "models.append(('KNN', KNeighborsClassifier()))\n",
    "models.append(('LDA', LinearDiscriminantAnalysis()))\n",
    "models.append(('GNB', GaussianNB()))\n",
    "models.append(('SVC', SVC()))"
   ]
  },
  {
   "cell_type": "code",
   "execution_count": 32,
   "id": "b87af131",
   "metadata": {},
   "outputs": [
    {
     "name": "stdout",
     "output_type": "stream",
     "text": [
      "LR: 0.782005 (0.009312)\n",
      "CART: 0.698913 (0.011547)\n",
      "KNN: 0.758454 (0.014653)\n",
      "LDA: 0.761353 (0.014635)\n",
      "GNB: 0.690217 (0.023458)\n",
      "SVC: 0.786473 (0.013968)\n"
     ]
    }
   ],
   "source": [
    "results = []\n",
    "names = []\n",
    "kfold = KFold(n_splits=10, shuffle=True, random_state=7)\n",
    "for name, model in models:\n",
    "    cv_results = cross_val_score(model, X, Y, cv=kfold)\n",
    "    results.append(cv_results)\n",
    "    names.append(name)\n",
    "    msg = \"%s: %f (%f)\" % (name, cv_results.mean(), cv_results.std())\n",
    "    print(msg)"
   ]
  },
  {
   "cell_type": "markdown",
   "id": "cac00138",
   "metadata": {},
   "source": [
    "### Select the best model"
   ]
  },
  {
   "cell_type": "code",
   "execution_count": 33,
   "id": "51044d3f",
   "metadata": {},
   "outputs": [
    {
     "data": {
      "image/png": "[encoded data removed]",
      "text/plain": [
       "<Figure size 432x288 with 1 Axes>"
      ]
     },
     "metadata": {
      "needs_background": "light"
     },
     "output_type": "display_data"
    }
   ],
   "source": [
    "# Compare algoritms\n",
    "fig = plt.figure()\n",
    "fig.suptitle(\"Algorithm Comparison\")\n",
    "ax = fig.add_subplot(111)\n",
    "plt.boxplot(results)\n",
    "ax.set_xticklabels(names)\n",
    "plt.show()"
   ]
  },
  {
   "cell_type": "markdown",
   "id": "9d97a45e",
   "metadata": {},
   "source": [
    "## Evaluate Test Data"
   ]
  },
  {
   "cell_type": "code",
   "execution_count": 34,
   "id": "da0e2017",
   "metadata": {},
   "outputs": [
    {
     "name": "stdout",
     "output_type": "stream",
     "text": [
      "Data description:\n",
      "Total number of records: 4277\n",
      "Total number of columns/features/variables: 13\n",
      "\n",
      "\n",
      "            Name     Type  Unique levels  Missing\n",
      "0    PassengerId   object           4277        0\n",
      "1     HomePlanet   object              3       87\n",
      "2      CryoSleep   object              2       93\n",
      "3          Cabin   object           3265      100\n",
      "4    Destination   object              3       92\n",
      "5            Age  float64             79       91\n",
      "6            VIP   object              2       93\n",
      "7    RoomService  float64            842       82\n",
      "8      FoodCourt  float64            902      106\n",
      "9   ShoppingMall  float64            715       98\n",
      "10           Spa  float64            833      101\n",
      "11        VRDeck  float64            796       80\n",
      "12          Name   object           4176       94\n"
     ]
    }
   ],
   "source": [
    "dfInfo(test)"
   ]
  },
  {
   "cell_type": "code",
   "execution_count": 35,
   "id": "e0a9168a",
   "metadata": {},
   "outputs": [],
   "source": [
    "ctest = test.copy()"
   ]
  },
  {
   "cell_type": "markdown",
   "id": "e342a1fd",
   "metadata": {},
   "source": [
    "Let's do the same transformation used to transform the train dataset"
   ]
  },
  {
   "cell_type": "code",
   "execution_count": 36,
   "id": "27f85d79",
   "metadata": {},
   "outputs": [],
   "source": [
    "ctest['CryoSleep'] = ctest['CryoSleep'].map({True:1, False:0})\n",
    "ctest['VIP'] = ctest['VIP'].map({True:1, False:0})"
   ]
  },
  {
   "cell_type": "markdown",
   "id": "a9ce23b7",
   "metadata": {},
   "source": [
    "Let's divide the feature **Cabin** into thre features: **Deck**, **Num**, **Side**"
   ]
  },
  {
   "cell_type": "code",
   "execution_count": 37,
   "id": "b7aa290a",
   "metadata": {},
   "outputs": [],
   "source": [
    "cabin = ctest['Cabin'].str.split(\"/\",expand=True)\n",
    "ctest = pd.concat([ctest,cabin], axis=1)\n",
    "ctest.rename(columns={0:'Deck', 1:'Num', 2:'Port'}, inplace=True)"
   ]
  },
  {
   "cell_type": "code",
   "execution_count": 38,
   "id": "ceab213a",
   "metadata": {},
   "outputs": [],
   "source": [
    "ctest['Num'] = pd.to_numeric(ctest['Num'], errors='coerce')"
   ]
  },
  {
   "cell_type": "code",
   "execution_count": 43,
   "id": "38d6a10e",
   "metadata": {},
   "outputs": [
    {
     "name": "stdout",
     "output_type": "stream",
     "text": [
      "Data description:\n",
      "Total number of records: 4277\n",
      "Total number of columns/features/variables: 9\n",
      "\n",
      "\n",
      "           Name     Type  Unique levels  Missing\n",
      "0     CryoSleep  float64              2       93\n",
      "1           Age  float64             79       91\n",
      "2           VIP  float64              2       93\n",
      "3   RoomService  float64            842       82\n",
      "4     FoodCourt  float64            902      106\n",
      "5  ShoppingMall  float64            715       98\n",
      "6           Spa  float64            833      101\n",
      "7        VRDeck  float64            796       80\n",
      "8           Num  float64           1505      100\n"
     ]
    }
   ],
   "source": [
    "dfInfo(ctest[quantitative])"
   ]
  },
  {
   "cell_type": "markdown",
   "id": "e9f7e175",
   "metadata": {},
   "source": [
    "### Fill missing data in test dataset"
   ]
  },
  {
   "cell_type": "code",
   "execution_count": 44,
   "id": "1d21a6dc",
   "metadata": {},
   "outputs": [],
   "source": [
    "ctest['RoomService'] = ctest['RoomService'].fillna(ctest['RoomService'].median())\n",
    "ctest['FoodCourt'] = ctest['FoodCourt'].fillna(ctest['FoodCourt'].median())\n",
    "ctest['ShoppingMall'] = ctest['ShoppingMall'].fillna(ctest['ShoppingMall'].median())\n",
    "ctest['Spa'] = ctest['Spa'].fillna(ctest['Spa'].median())\n",
    "ctest['VRDeck'] = ctest['VRDeck'].fillna(ctest['VRDeck'].median())\n",
    "ctest['Num'] = ctest['Num'].fillna(ctest['Num'].median())"
   ]
  },
  {
   "cell_type": "code",
   "execution_count": 45,
   "id": "4b675641",
   "metadata": {},
   "outputs": [],
   "source": [
    "ctest['Age'] = ctest['Age'].fillna(ctrain['Age'].mean())"
   ]
  },
  {
   "cell_type": "code",
   "execution_count": 46,
   "id": "6f71ceee",
   "metadata": {},
   "outputs": [
    {
     "name": "stdout",
     "output_type": "stream",
     "text": [
      "Data description:\n",
      "Total number of records: 4277\n",
      "Total number of columns/features/variables: 9\n",
      "\n",
      "\n",
      "           Name     Type  Unique levels  Missing\n",
      "0     CryoSleep  float64              2       93\n",
      "1           Age  float64             80        0\n",
      "2           VIP  float64              2       93\n",
      "3   RoomService  float64            842        0\n",
      "4     FoodCourt  float64            902        0\n",
      "5  ShoppingMall  float64            715        0\n",
      "6           Spa  float64            833        0\n",
      "7        VRDeck  float64            796        0\n",
      "8           Num  float64           1505        0\n"
     ]
    }
   ],
   "source": [
    "dfInfo(ctest[quantitative])"
   ]
  },
  {
   "cell_type": "code",
   "execution_count": 47,
   "id": "8889a40b",
   "metadata": {},
   "outputs": [
    {
     "name": "stdout",
     "output_type": "stream",
     "text": [
      "Passengers in CryoSleep: 1544 (36.100070%)\n",
      "VIP passengers: 74 (1.730185%)\n"
     ]
    }
   ],
   "source": [
    "print(\"Passengers in CryoSleep: %d (%f%%)\" % (ctest['CryoSleep'].sum(), (ctest['CryoSleep'].sum()/ctest.shape[0])*100) )\n",
    "print(\"VIP passengers: %d (%f%%)\" % (ctest['VIP'].sum(), (ctest['VIP'].sum()/ctest.shape[0])*100) ) "
   ]
  },
  {
   "cell_type": "code",
   "execution_count": 48,
   "id": "b30a3ea9",
   "metadata": {},
   "outputs": [],
   "source": [
    "ctest['CryoSleep'] = ctest['CryoSleep'].fillna(method='ffill')\n",
    "ctest['VIP'] = ctest['VIP'].fillna(method='ffill')"
   ]
  },
  {
   "cell_type": "code",
   "execution_count": 49,
   "id": "260d23c4",
   "metadata": {},
   "outputs": [
    {
     "name": "stdout",
     "output_type": "stream",
     "text": [
      "Data description:\n",
      "Total number of records: 4277\n",
      "Total number of columns/features/variables: 9\n",
      "\n",
      "\n",
      "           Name     Type  Unique levels  Missing\n",
      "0     CryoSleep  float64              2        0\n",
      "1           Age  float64             80        0\n",
      "2           VIP  float64              2        0\n",
      "3   RoomService  float64            842        0\n",
      "4     FoodCourt  float64            902        0\n",
      "5  ShoppingMall  float64            715        0\n",
      "6           Spa  float64            833        0\n",
      "7        VRDeck  float64            796        0\n",
      "8           Num  float64           1505        0\n"
     ]
    }
   ],
   "source": [
    "dfInfo(ctest[quantitative])"
   ]
  },
  {
   "cell_type": "markdown",
   "id": "5d43dfb6",
   "metadata": {},
   "source": [
    "### Evaluate test data"
   ]
  },
  {
   "cell_type": "code",
   "execution_count": 50,
   "id": "6ccec608",
   "metadata": {},
   "outputs": [],
   "source": [
    "X_test = ctest[quantitative].values"
   ]
  },
  {
   "cell_type": "code",
   "execution_count": 51,
   "id": "3420f366",
   "metadata": {},
   "outputs": [],
   "source": [
    "# Definimos nuestro modelo\n",
    "svc = SVC()\n",
    "svc.fit(X,Y)\n",
    "predictions = svc.predict(X_test)"
   ]
  },
  {
   "cell_type": "markdown",
   "id": "4522732b",
   "metadata": {},
   "source": [
    "### Save my predictions"
   ]
  },
  {
   "cell_type": "code",
   "execution_count": 58,
   "id": "f95c2ac4",
   "metadata": {},
   "outputs": [],
   "source": [
    "my_predict = pd.DataFrame()\n",
    "my_predict['PassengerId'] = ctest['PassengerId']\n",
    "my_predict['Transported'] = predictions"
   ]
  },
  {
   "cell_type": "code",
   "execution_count": 59,
   "id": "6f1a5f14",
   "metadata": {},
   "outputs": [],
   "source": [
    "my_predict['Transported'] = my_predict['Transported'].map({0:False, 1:True})"
   ]
  },
  {
   "cell_type": "code",
   "execution_count": 60,
   "id": "5ecabbc3",
   "metadata": {},
   "outputs": [],
   "source": [
    "# Salvamos mis predicciones\n",
    "my_predict.to_csv('my_predictions_Titanic_Spaceship.csv', index=False)"
   ]
  },
  {
   "cell_type": "code",
   "execution_count": null,
   "id": "01c0ac88",
   "metadata": {},
   "outputs": [],
   "source": []
  }
 ],
 "metadata": {
  "kernelspec": {
   "display_name": "Python 3 (ipykernel)",
   "language": "python",
   "name": "python3"
  },
  "language_info": {
   "codemirror_mode": {
    "name": "ipython",
    "version": 3
   },
   "file_extension": ".py",
   "mimetype": "text/x-python",
   "name": "python",
   "nbconvert_exporter": "python",
   "pygments_lexer": "ipython3",
   "version": "3.9.12"
  }
 },
 "nbformat": 4,
 "nbformat_minor": 5
}
